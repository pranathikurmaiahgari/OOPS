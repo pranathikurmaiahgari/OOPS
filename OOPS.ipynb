{
 "cells": [
  {
   "cell_type": "markdown",
   "id": "123a6777-8b56-410a-95a9-afbdcf0d376d",
   "metadata": {},
   "source": [
    "Q1. Explain Class and Object with respect to Object-Oriented Programming. Give a suitable example."
   ]
  },
  {
   "cell_type": "markdown",
   "id": "34a825f0-f324-41a8-b43b-cef6fb95acc3",
   "metadata": {},
   "source": [
    "CLASS:\n",
    "    class is  blueprint of an object.class is a collection of realworld entities which have same state and property.\n",
    "SYNTAX:\n",
    "    class classname:\n",
    "OBJECT:\n",
    "    object is instance of a class or it is a real world entity.\n",
    "SYNTAX:\n",
    "    objectname=classname()"
   ]
  },
  {
   "cell_type": "code",
   "execution_count": 8,
   "id": "64906cfc-df4c-49b4-8f63-c5f45d960607",
   "metadata": {},
   "outputs": [],
   "source": [
    "class pwskills:\n",
    "    def introduction(self ,name , program):\n",
    "        print(\"Hello\",name,\"and welcome to \",program)"
   ]
  },
  {
   "cell_type": "code",
   "execution_count": 9,
   "id": "2b8815ff-06ec-499b-895e-9258d3a63fbb",
   "metadata": {},
   "outputs": [],
   "source": [
    "pw=pwskills()"
   ]
  },
  {
   "cell_type": "code",
   "execution_count": 10,
   "id": "70767a8e-386f-44d0-bcf8-31c458fce842",
   "metadata": {},
   "outputs": [
    {
     "name": "stdout",
     "output_type": "stream",
     "text": [
      "Hello pranathi and welcome to  data science master\n"
     ]
    }
   ],
   "source": [
    "pw.introduction(\"pranathi\",\"data science masters\")"
   ]
  },
  {
   "cell_type": "markdown",
   "id": "cbc8b6a9-1777-4dce-9455-55ad1ecda594",
   "metadata": {},
   "source": [
    "Q2. Name the four pillars of OOPs."
   ]
  },
  {
   "cell_type": "markdown",
   "id": "3563f5c3-75c9-437b-8a7c-8f87ce893fec",
   "metadata": {},
   "source": [
    "Four pillars of oops are 1.abstraction\n",
    "                         2.inheritance\n",
    "                         3.polymorphism\n",
    "                         4.encapsulation\n"
   ]
  },
  {
   "cell_type": "markdown",
   "id": "260fcc33-7884-402f-8554-902b12e7f90f",
   "metadata": {},
   "source": [
    "1.Abstraction:\n",
    "    abstraction is a process of creating a simplified version of complex system,emphasizing the essential aspects while hiding the unneccessary details."
   ]
  },
  {
   "cell_type": "code",
   "execution_count": 171,
   "id": "7b2d7b81-1be2-41d1-a0ca-a46b3e54c140",
   "metadata": {},
   "outputs": [],
   "source": [
    "\n",
    "class Animal:\n",
    "    def __init__(self,name,age):\n",
    "        self.name=name\n",
    "        self.age=age\n",
    "    def makeSound(self):\n",
    "        pass"
   ]
  },
  {
   "cell_type": "code",
   "execution_count": 83,
   "id": "b4fe4d98-87a4-44eb-a7d7-99449c00da4d",
   "metadata": {},
   "outputs": [],
   "source": [
    "class Lion(Animal):\n",
    "    def makeSound(self):\n",
    "        return \"roar\""
   ]
  },
  {
   "cell_type": "code",
   "execution_count": 84,
   "id": "cb07d47d-0c74-44ec-a33b-146df4085453",
   "metadata": {},
   "outputs": [],
   "source": [
    "class Tiger(Animal):\n",
    "    def makeSound(self):\n",
    "        return \"grawl\""
   ]
  },
  {
   "cell_type": "code",
   "execution_count": 85,
   "id": "3cba07f9-3ff1-4e1d-99eb-4094be71ae16",
   "metadata": {},
   "outputs": [],
   "source": [
    "lion=Lion(\"Lion\",5)"
   ]
  },
  {
   "cell_type": "code",
   "execution_count": 86,
   "id": "84a3fc54-fc1c-4901-b40b-ad6f14f1c83e",
   "metadata": {},
   "outputs": [
    {
     "data": {
      "text/plain": [
       "'Lion'"
      ]
     },
     "execution_count": 86,
     "metadata": {},
     "output_type": "execute_result"
    }
   ],
   "source": [
    "lion.name"
   ]
  },
  {
   "cell_type": "code",
   "execution_count": 87,
   "id": "b542d92b-106a-44f2-a379-48d6e2baa9d2",
   "metadata": {},
   "outputs": [
    {
     "data": {
      "text/plain": [
       "5"
      ]
     },
     "execution_count": 87,
     "metadata": {},
     "output_type": "execute_result"
    }
   ],
   "source": [
    "lion.age"
   ]
  },
  {
   "cell_type": "code",
   "execution_count": 89,
   "id": "e0eb912b-85a6-4e64-9beb-9898777d4bdf",
   "metadata": {},
   "outputs": [
    {
     "data": {
      "text/plain": [
       "'roar'"
      ]
     },
     "execution_count": 89,
     "metadata": {},
     "output_type": "execute_result"
    }
   ],
   "source": [
    "lion.makeSound()"
   ]
  },
  {
   "cell_type": "markdown",
   "id": "79db5c8a-7904-4cd9-ac06-0892f48ec1ab",
   "metadata": {},
   "source": [
    "2.Inheritance:\n",
    "    inheritance is a property by which we will be able to access parent class properties from a child class.there are 5 types of inheritance.\n",
    "    They are 1.single\n",
    "             2.multiple\n",
    "             3.multi-level\n",
    "             4.hybrid\n",
    "             5.heirachical"
   ]
  },
  {
   "cell_type": "code",
   "execution_count": 51,
   "id": "c91caf87-8380-4873-9daa-a4b8b26b2144",
   "metadata": {},
   "outputs": [],
   "source": [
    "class parent_class:\n",
    "    def parent_method(self):\n",
    "        print(\"this is parent class\")\n",
    "    "
   ]
  },
  {
   "cell_type": "code",
   "execution_count": 54,
   "id": "ac78b7c6-676e-4234-9251-dee6baf4c6f5",
   "metadata": {},
   "outputs": [],
   "source": [
    "class child_class(parent_class):\n",
    "    def child_method(self):\n",
    "        pass"
   ]
  },
  {
   "cell_type": "code",
   "execution_count": 56,
   "id": "8f6def4c-41d7-4407-992a-bc5be88e6b0e",
   "metadata": {},
   "outputs": [],
   "source": [
    "pw2=child_class()"
   ]
  },
  {
   "cell_type": "code",
   "execution_count": 59,
   "id": "6160449f-d39c-4edc-bb06-112c36077ead",
   "metadata": {},
   "outputs": [
    {
     "name": "stdout",
     "output_type": "stream",
     "text": [
      "this is parent class\n"
     ]
    }
   ],
   "source": [
    "pw2.parent_method()"
   ]
  },
  {
   "cell_type": "markdown",
   "id": "66e812a0-7502-4cca-9803-98caaa7409a8",
   "metadata": {},
   "source": [
    "3.Polymorphism:\n",
    "    polymorphism means many forms.like using a operator for many purposes which is operator overloading.it means that doing a work in many ways"
   ]
  },
  {
   "cell_type": "code",
   "execution_count": 66,
   "id": "5ce147a7-d824-4a5c-b8dc-fad7a8c61756",
   "metadata": {},
   "outputs": [],
   "source": [
    "class polymorphism:\n",
    "    def __init__(self , a , b ,):\n",
    "        self.a = a\n",
    "        self.b= b\n",
    "    def add_method(self):\n",
    "        return self.a+self.b"
   ]
  },
  {
   "cell_type": "code",
   "execution_count": 71,
   "id": "67a3c592-eb6a-43a5-8dd1-6414769f19cc",
   "metadata": {},
   "outputs": [],
   "source": [
    "pw3=polymorphism(1,2)"
   ]
  },
  {
   "cell_type": "code",
   "execution_count": 72,
   "id": "c9a9046a-39bb-451f-8c87-a276349d3b32",
   "metadata": {},
   "outputs": [
    {
     "data": {
      "text/plain": [
       "3"
      ]
     },
     "execution_count": 72,
     "metadata": {},
     "output_type": "execute_result"
    }
   ],
   "source": [
    "pw3.add_method()"
   ]
  },
  {
   "cell_type": "code",
   "execution_count": 74,
   "id": "8359730a-39dd-481e-9107-01d00c98403f",
   "metadata": {},
   "outputs": [],
   "source": [
    "pw3=polymorphism(\"hello and \",\"welcome\")"
   ]
  },
  {
   "cell_type": "code",
   "execution_count": 75,
   "id": "ef54254a-774d-432e-9095-bcde52768c3f",
   "metadata": {},
   "outputs": [
    {
     "data": {
      "text/plain": [
       "'hello and welcome'"
      ]
     },
     "execution_count": 75,
     "metadata": {},
     "output_type": "execute_result"
    }
   ],
   "source": [
    "pw3.add_method()"
   ]
  },
  {
   "cell_type": "markdown",
   "id": "3e938caf-27bd-45b0-a791-5e00a2e904b9",
   "metadata": {},
   "source": [
    "4.Encapsulation:\n",
    "    encapsulation means binding data and code together like a capsule."
   ]
  },
  {
   "cell_type": "code",
   "execution_count": 76,
   "id": "e5570e30-732c-4016-a25e-c49f80352b82",
   "metadata": {},
   "outputs": [],
   "source": [
    "class encapsulation_example:\n",
    "    def __init__(self , name ,password):\n",
    "        \n",
    "        self.name = name\n",
    "        self.__password=password\n",
    "      \n",
    "        "
   ]
  },
  {
   "cell_type": "code",
   "execution_count": 77,
   "id": "4b2ff26d-4fa8-49e5-aa0e-f3d5b394cc6e",
   "metadata": {},
   "outputs": [],
   "source": [
    "pw1=encapsulation_example(\"pranathi\",12345)"
   ]
  },
  {
   "cell_type": "code",
   "execution_count": 78,
   "id": "03844cf5-9f56-4f64-9a24-998986098c8e",
   "metadata": {},
   "outputs": [
    {
     "data": {
      "text/plain": [
       "'pranathi'"
      ]
     },
     "execution_count": 78,
     "metadata": {},
     "output_type": "execute_result"
    }
   ],
   "source": [
    "pw1.name"
   ]
  },
  {
   "cell_type": "code",
   "execution_count": 79,
   "id": "abbd401a-73a5-48a0-8561-5b56af34542f",
   "metadata": {},
   "outputs": [
    {
     "data": {
      "text/plain": [
       "12345"
      ]
     },
     "execution_count": 79,
     "metadata": {},
     "output_type": "execute_result"
    }
   ],
   "source": [
    "\"\"\"\n",
    "here we will not be able to access the password because of encapsulation.we gave password as a private memberr using encapsulation property.but we can\n",
    "as a creator be able to access\n",
    "\"\"\"\n",
    "#pw1.__password(we will not be able to access a private member like this)\n",
    "pw1._abstract_example__password"
   ]
  },
  {
   "cell_type": "markdown",
   "id": "c007fd5b-1f65-4fa1-aa5e-6a76c9268b08",
   "metadata": {},
   "source": [
    "Q3. Explain why the __init__() function is used. Give a suitable example."
   ]
  },
  {
   "cell_type": "markdown",
   "id": "0cdcf5be-cb69-491d-97e7-4d2c49ee6f47",
   "metadata": {},
   "source": [
    "The __init__ function also known as a constructor is used to initialize and setup the initial state of the object when it is created from the class."
   ]
  },
  {
   "cell_type": "code",
   "execution_count": 93,
   "id": "6a2ecdd4-5685-4483-bea8-fbd9114ff52f",
   "metadata": {},
   "outputs": [],
   "source": [
    "class Person:\n",
    "    def __init__(self,name,age):\n",
    "        self.name=name\n",
    "        self.age=age\n",
    "    def intro(self):\n",
    "        print(\"Hi,I am \",self.name,\"and i am \",self.age,\"years old \")\n",
    "        "
   ]
  },
  {
   "cell_type": "code",
   "execution_count": 94,
   "id": "977321d0-af11-4441-90b6-711df13fc1b5",
   "metadata": {},
   "outputs": [],
   "source": [
    "pw4 = Person(\"Pranathi\",18)"
   ]
  },
  {
   "cell_type": "code",
   "execution_count": 95,
   "id": "0e0f1e2c-7700-4c0b-bece-6becd8b23730",
   "metadata": {},
   "outputs": [
    {
     "name": "stdout",
     "output_type": "stream",
     "text": [
      "Hi,I am  Pranathi and i am  18 years old \n"
     ]
    }
   ],
   "source": [
    "pw4.intro()"
   ]
  },
  {
   "cell_type": "markdown",
   "id": "5ee9262a-48a2-4bca-9a8c-24f93d2cd25b",
   "metadata": {},
   "source": [
    "Q4. Why self is used in OOPs?"
   ]
  },
  {
   "cell_type": "markdown",
   "id": "f06daf76-ba87-4ee7-b3fa-46a4e4a85c47",
   "metadata": {},
   "source": [
    "self keyword is an implicit reference variable to the current object of the class and is available only inside the class, not outside of the class, so that variable and methods inside the class can use other variables/methods inside the same class."
   ]
  },
  {
   "cell_type": "markdown",
   "id": "36084f89-3095-42a7-b329-39c9c1e4f3cc",
   "metadata": {},
   "source": [
    "Q5. What is inheritance? Give an example for each type of inheritance."
   ]
  },
  {
   "cell_type": "code",
   "execution_count": null,
   "id": "9d29442c-ae13-4ed3-9531-6f88b08e1f3c",
   "metadata": {},
   "outputs": [],
   "source": [
    "2.Inheritance:\n",
    "    inheritance is a property by which we will be able to access parent class properties from a child class.there are 5 types of inheritance.\n",
    "    They are 1.single\n",
    "             2.multiple\n",
    "             3.multi-level\n",
    "             4.hybrid\n",
    "             5.heirachical"
   ]
  },
  {
   "cell_type": "code",
   "execution_count": 96,
   "id": "daadff03-67dc-4156-a5d1-9c2641a29f2a",
   "metadata": {},
   "outputs": [],
   "source": [
    "#Example of single inheritance\n",
    "class parent_class:\n",
    "    def parent_method(self):\n",
    "        print(\"this is parent class\")"
   ]
  },
  {
   "cell_type": "code",
   "execution_count": 97,
   "id": "569b52e5-0e17-43c5-9bff-04ca11e66b66",
   "metadata": {},
   "outputs": [],
   "source": [
    "class child_class(parent_class):\n",
    "    def child_method(self):\n",
    "        pass"
   ]
  },
  {
   "cell_type": "code",
   "execution_count": 98,
   "id": "3afd931c-f627-46b9-ac01-65da185d51d2",
   "metadata": {},
   "outputs": [],
   "source": [
    "i1=child_class()"
   ]
  },
  {
   "cell_type": "code",
   "execution_count": 99,
   "id": "9e5f7185-7d5d-4361-bb10-a3e66a80c359",
   "metadata": {},
   "outputs": [
    {
     "name": "stdout",
     "output_type": "stream",
     "text": [
      "this is parent class\n"
     ]
    }
   ],
   "source": [
    "i1.parent_method()"
   ]
  },
  {
   "cell_type": "code",
   "execution_count": 110,
   "id": "4b7c74f9-2ffb-42b6-85ed-9bc654a37a33",
   "metadata": {},
   "outputs": [],
   "source": [
    "#Example of multiple inheritance\n",
    "class parent_class1:\n",
    "    def parent_method1(self):\n",
    "        print(\"this is parent class1\")"
   ]
  },
  {
   "cell_type": "code",
   "execution_count": 111,
   "id": "f646ad97-e75e-4604-b978-94402df60cf5",
   "metadata": {},
   "outputs": [],
   "source": [
    "class parent_class2:\n",
    "    def parent_method2(self):\n",
    "        print(\"this is parent class2\")"
   ]
  },
  {
   "cell_type": "code",
   "execution_count": 112,
   "id": "b6b2e1fc-1cec-4ce2-bfa5-677ad2e9f63a",
   "metadata": {},
   "outputs": [],
   "source": [
    "class child_class(parent_class1,parent_class2):\n",
    "    pass"
   ]
  },
  {
   "cell_type": "code",
   "execution_count": 113,
   "id": "b0bfc63e-e1f2-4e77-bc49-f9572869b03b",
   "metadata": {},
   "outputs": [],
   "source": [
    "i2=child_class()"
   ]
  },
  {
   "cell_type": "code",
   "execution_count": 115,
   "id": "2dc1cad2-3a4c-4901-b924-3496878adc79",
   "metadata": {},
   "outputs": [
    {
     "name": "stdout",
     "output_type": "stream",
     "text": [
      "this is parent class1\n"
     ]
    }
   ],
   "source": [
    "i2.parent_method1()"
   ]
  },
  {
   "cell_type": "code",
   "execution_count": 117,
   "id": "e7c1e1c3-1025-4f63-abb6-944294b92acd",
   "metadata": {},
   "outputs": [
    {
     "name": "stdout",
     "output_type": "stream",
     "text": [
      "this is parent class2\n"
     ]
    }
   ],
   "source": [
    "i2.parent_method2()"
   ]
  },
  {
   "cell_type": "code",
   "execution_count": 137,
   "id": "39a3329c-18fa-4ad1-a8ac-03dbef0f4406",
   "metadata": {},
   "outputs": [],
   "source": [
    "#Example of multi-level inheritance\n",
    "class grand_parent_class:\n",
    "    def grand_parent_method(self):\n",
    "        print(\"this is grand parent class\")"
   ]
  },
  {
   "cell_type": "code",
   "execution_count": 138,
   "id": "52e55660-a664-47fb-b3a3-0c041ae1316e",
   "metadata": {},
   "outputs": [],
   "source": [
    "class parent_class(grand_parent_class):\n",
    "    def parent_method(self):\n",
    "        print(\"this is parent class\")"
   ]
  },
  {
   "cell_type": "code",
   "execution_count": 139,
   "id": "bdf8d9fd-26f3-46f9-ae79-55c963c616d1",
   "metadata": {},
   "outputs": [],
   "source": [
    "class child_class(parent_class):\n",
    "    def child_method(self):\n",
    "        pass"
   ]
  },
  {
   "cell_type": "code",
   "execution_count": 140,
   "id": "02c3f5a5-d400-45cd-ac85-085867029dee",
   "metadata": {},
   "outputs": [],
   "source": [
    "i3=child_class()"
   ]
  },
  {
   "cell_type": "code",
   "execution_count": 141,
   "id": "4c6037fb-b6b5-4c3b-9f5f-be76be5d3971",
   "metadata": {},
   "outputs": [
    {
     "name": "stdout",
     "output_type": "stream",
     "text": [
      "this is grand parent class\n"
     ]
    }
   ],
   "source": [
    "i3.grand_parent_method()"
   ]
  },
  {
   "cell_type": "code",
   "execution_count": 142,
   "id": "5bda2b31-092f-427c-aca0-8a96c76006d5",
   "metadata": {},
   "outputs": [
    {
     "name": "stdout",
     "output_type": "stream",
     "text": [
      "this is parent class\n"
     ]
    }
   ],
   "source": [
    "i3.parent_method()"
   ]
  },
  {
   "cell_type": "code",
   "execution_count": 151,
   "id": "06d96f15-4861-4b39-8313-1cc035dfaf2a",
   "metadata": {},
   "outputs": [],
   "source": [
    "#example of hierachical\n",
    "class parent:\n",
    "    def parent_method(self):\n",
    "        print(\"this is parent1\")\n",
    "        "
   ]
  },
  {
   "cell_type": "code",
   "execution_count": 152,
   "id": "8df8243a-bb8d-4a1f-af6d-17412382f0b9",
   "metadata": {},
   "outputs": [],
   "source": [
    "class child1(parent):\n",
    "    def child_method1(self):\n",
    "        pass"
   ]
  },
  {
   "cell_type": "code",
   "execution_count": 157,
   "id": "b58a5f2b-5894-404c-95ff-5e44acdcbbdf",
   "metadata": {},
   "outputs": [],
   "source": [
    "class child2(parent):\n",
    "    def child_method2(self):\n",
    "        pass"
   ]
  },
  {
   "cell_type": "code",
   "execution_count": 158,
   "id": "3caf446e-2a4f-49e4-82ab-da9534fec86d",
   "metadata": {},
   "outputs": [],
   "source": [
    "i4=child1()"
   ]
  },
  {
   "cell_type": "code",
   "execution_count": 159,
   "id": "ba20e6c8-2280-4510-99a8-2e6b7a2b8e77",
   "metadata": {},
   "outputs": [
    {
     "name": "stdout",
     "output_type": "stream",
     "text": [
      "this is parent1\n"
     ]
    }
   ],
   "source": [
    "i4.parent_method()"
   ]
  },
  {
   "cell_type": "code",
   "execution_count": 160,
   "id": "f013af75-ac9f-4c4f-95c6-0930cb92d3e6",
   "metadata": {},
   "outputs": [],
   "source": [
    "i41=child2()"
   ]
  },
  {
   "cell_type": "code",
   "execution_count": 161,
   "id": "7743bc4c-542c-4167-83c9-bcf85176782f",
   "metadata": {},
   "outputs": [
    {
     "name": "stdout",
     "output_type": "stream",
     "text": [
      "this is parent1\n"
     ]
    }
   ],
   "source": [
    "i41.parent_method()"
   ]
  },
  {
   "cell_type": "code",
   "execution_count": 162,
   "id": "98867374-8c09-4d21-8ec4-ead86a3fa4c3",
   "metadata": {},
   "outputs": [],
   "source": [
    "#example of hybrid\n",
    "class parent1:\n",
    "    def parent_method1(self):\n",
    "        print(\"this is parent class1\")"
   ]
  },
  {
   "cell_type": "code",
   "execution_count": 163,
   "id": "db62e166-0962-4df2-9062-bb19f7b1120e",
   "metadata": {},
   "outputs": [],
   "source": [
    "class child1(parent1):\n",
    "    pass"
   ]
  },
  {
   "cell_type": "code",
   "execution_count": 164,
   "id": "8f577bef-243c-4600-97fa-1bdb716bd3c5",
   "metadata": {},
   "outputs": [],
   "source": [
    "class parent2:\n",
    "    def parent_method2(self):\n",
    "        print(\"this is parent class2\")\n",
    "        "
   ]
  },
  {
   "cell_type": "code",
   "execution_count": 165,
   "id": "b5ef5c75-c04b-4bb8-842e-f2f06c68b954",
   "metadata": {},
   "outputs": [],
   "source": [
    "class child2(child1,parent2):\n",
    "    pass"
   ]
  },
  {
   "cell_type": "code",
   "execution_count": 166,
   "id": "12b96822-57d9-4412-836b-686ad6695065",
   "metadata": {},
   "outputs": [],
   "source": [
    "i5=child2()"
   ]
  },
  {
   "cell_type": "code",
   "execution_count": 167,
   "id": "9cd00374-0122-47b6-9629-a1abe1ffbd3b",
   "metadata": {},
   "outputs": [
    {
     "name": "stdout",
     "output_type": "stream",
     "text": [
      "this is parent class1\n"
     ]
    }
   ],
   "source": [
    "i5.parent_method1()"
   ]
  },
  {
   "cell_type": "code",
   "execution_count": 168,
   "id": "9ab60417-ca99-44d5-9e0c-88bd9b775c46",
   "metadata": {},
   "outputs": [
    {
     "name": "stdout",
     "output_type": "stream",
     "text": [
      "this is parent class2\n"
     ]
    }
   ],
   "source": [
    "i5.parent_method2()"
   ]
  },
  {
   "cell_type": "code",
   "execution_count": null,
   "id": "5f78d526-137f-4849-9bd3-15b3ff7a4321",
   "metadata": {},
   "outputs": [],
   "source": []
  }
 ],
 "metadata": {
  "kernelspec": {
   "display_name": "Python 3 (ipykernel)",
   "language": "python",
   "name": "python3"
  },
  "language_info": {
   "codemirror_mode": {
    "name": "ipython",
    "version": 3
   },
   "file_extension": ".py",
   "mimetype": "text/x-python",
   "name": "python",
   "nbconvert_exporter": "python",
   "pygments_lexer": "ipython3",
   "version": "3.10.8"
  }
 },
 "nbformat": 4,
 "nbformat_minor": 5
}
